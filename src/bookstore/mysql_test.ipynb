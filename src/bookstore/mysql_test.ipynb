{
 "cells": [
  {
   "cell_type": "code",
   "execution_count": 3,
   "metadata": {},
   "outputs": [
    {
     "name": "stdout",
     "output_type": "stream",
     "text": [
      "My Horror through Romance\n",
      "A Horror in Romance\n",
      "My Adventure of Sci-Fi\n",
      "My Adventure under Fantasy\n",
      "An Romance through Thriller\n",
      "Your Mystery from Thriller\n",
      "A Horror from Thriller\n",
      "An Fantasy beyond Mystery\n",
      "My Adventure from Thriller\n",
      "My Romance beyond Horror\n"
     ]
    }
   ],
   "source": [
    "import random\n",
    "\n",
    "def generate_book_title():\n",
    "    adjectives = ['The', 'A', 'An', 'My', 'Your']\n",
    "    nouns = ['Adventure', 'Mystery', 'Fantasy', 'Sci-Fi', 'Romance', 'Thriller', 'Horror']\n",
    "    verbs = ['of', 'in', 'from', 'beyond', 'under', 'through']\n",
    "\n",
    "    adjective = random.choice(adjectives)\n",
    "    noun = random.choice(nouns)\n",
    "    verb = random.choice(verbs)\n",
    "\n",
    "    return f\"{adjective} {noun} {verb} {random.choice(nouns)}\"\n",
    "\n",
    "# Generate 10 random book titles\n",
    "book_titles = [generate_book_title() for _ in range(10)]\n",
    "\n",
    "# Print the generated book titles\n",
    "for title in book_titles:\n",
    "    print(title)\n"
   ]
  },
  {
   "cell_type": "code",
   "execution_count": null,
   "metadata": {},
   "outputs": [],
   "source": [
    "from faker import Faker\n",
    "\n",
    "def generate_book_titles(num_titles):\n",
    "    fake = Faker()\n",
    "    book_titles = [fake.catch_phrase() for _ in range(num_titles)]\n",
    "    return book_titles\n",
    "\n",
    "# Generate 10 random book titles\n",
    "book_titles = generate_book_titles(10)\n",
    "\n",
    "# Print the generated book titles\n",
    "for title in book_titles:\n",
    "    print(title)\n"
   ]
  }
 ],
 "metadata": {
  "kernelspec": {
   "display_name": "Python 3",
   "language": "python",
   "name": "python3"
  },
  "language_info": {
   "codemirror_mode": {
    "name": "ipython",
    "version": 3
   },
   "file_extension": ".py",
   "mimetype": "text/x-python",
   "name": "python",
   "nbconvert_exporter": "python",
   "pygments_lexer": "ipython3",
   "version": "3.10.11"
  }
 },
 "nbformat": 4,
 "nbformat_minor": 2
}
